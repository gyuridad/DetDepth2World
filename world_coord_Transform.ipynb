{
 "cells": [
  {
   "cell_type": "markdown",
   "id": "61004d72",
   "metadata": {},
   "source": [
    "# 카메라 좌표를 월드 좌표로 변환 예제\n",
    "### ------------------------------------------------------------\n",
    "### 좌표계/부호 규약 (중요!)\n",
    "### - World(지도) 좌표: ENU (x=East, y=North, z=Up)\n",
    "### - Camera 좌표: x=Right, y=Down, z=Forward  (CV 관례)\n",
    "### - yaw: z(Up)축 기준 반시계(좌) + ; 0°일 때 동쪽(East) 향함\n",
    "### - pitch: y(North)축 기준 + 이면 \"기수 올림\"(하늘쪽),  - 이면 \"하향\"\n",
    "### - roll: x(East)축 기준 + 이면 오른쪽 날개 내림(우측으로 구름)\n",
    "### (IMU/PX4가 NED을 쓰거나 부호규약이 다르면 알려줘! 변환 코드 붙여줄게.)\n",
    "### ------------------------------------------------------------"
   ]
  },
  {
   "cell_type": "markdown",
   "id": "ab49e267",
   "metadata": {},
   "source": [
    "### 1. 기본 import + 회전/좌표 변환 유틸"
   ]
  },
  {
   "cell_type": "code",
   "execution_count": 1,
   "id": "6e2243f8",
   "metadata": {},
   "outputs": [],
   "source": [
    "import numpy as np\n",
    "import math\n",
    "\n",
    "\n",
    "def rot_zyx(yaw_deg=0.0, pitch_deg=0.0, roll_deg=0.0):\n",
    "    \"\"\"\n",
    "    R_wc = Rz(yaw) @ Ry(pitch) @ Rx(roll)\n",
    "    - world <- camera  회전행렬 (카메라벡터를 월드좌표로 회전)\n",
    "    - 각도 단위: degree\n",
    "    \"\"\"\n",
    "    y, p, r = np.deg2rad([yaw_deg, pitch_deg, roll_deg])\n",
    "    cz, sz = np.cos(y), np.sin(y)\n",
    "    cy, sy = np.cos(p), np.sin(p)\n",
    "    cx, sx = np.cos(r), np.sin(r)\n",
    "\n",
    "    Rz = np.array([[cz, -sz, 0],\n",
    "                   [sz,  cz, 0],\n",
    "                   [ 0,   0, 1]], dtype=float)\n",
    "    Ry = np.array([[ cy, 0, sy],\n",
    "                   [  0, 1,  0],\n",
    "                   [-sy, 0, cy]], dtype=float)\n",
    "    Rx = np.array([[1,  0,   0],\n",
    "                   [0, cx, -sx],\n",
    "                   [0, sx,  cx]], dtype=float)\n",
    "\n",
    "    return Rz @ Ry @ Rx\n",
    "\n",
    "def get_R_bc(mount=\"nadir\"):\n",
    "    \"\"\"\n",
    "    Camera(OpenCV: +x=right, +y=down, +z=forward) -> Body(FLU: +X=forward, +Y=left, +Z=up)\n",
    "    \"\"\"\n",
    "    # 전방(정면) 장착\n",
    "    R_bc_front = np.array([\n",
    "        [ 0,  0,  1],   # cZ -> bX\n",
    "        [-1,  0,  0],   # cX -> -bY\n",
    "        [ 0, -1,  0],   # cY -> -bZ\n",
    "    ], float)\n",
    "\n",
    "    # 하향(나디르) 장착\n",
    "    R_bc_nadir = np.array([\n",
    "        [ 0, -1,  0],\n",
    "        [-1,  0,  0],\n",
    "        [ 0,  0, -1],\n",
    "    ], float)\n",
    "\n",
    "    if mount == \"front\":\n",
    "        return R_bc_front\n",
    "    elif mount == \"nadir\":\n",
    "        return R_bc_nadir\n",
    "    else:\n",
    "        raise ValueError(\"mount must be 'front' or 'nadir'\")\n",
    "\n",
    "def cam_to_world_point(X, Y, Z, yaw_deg, pitch_deg, roll_deg, Cw, mount=\"nadir\", R_bc=None):\n",
    "    \"\"\"\n",
    "    카메라 좌표 P_c=[X,Y,Z] (OpenCV: x=오른, y=아래, z=앞)를\n",
    "    월드(ENU) 좌표로 변환: P_w = (R_wb @ R_bc) @ P_c + C_w\n",
    "    - mount: 'nadir'(기본) 또는 'front'\n",
    "    - R_bc: 직접 보정행렬을 넣고 싶으면 전달(우선순위 높음)\n",
    "    \"\"\"\n",
    "    R_wb = rot_zyx(yaw_deg, pitch_deg, roll_deg)        # Body -> World\n",
    "    R_bc = R_bc if R_bc is not None else get_R_bc(mount) # Camera -> Body\n",
    "    R_wc = R_wb @ R_bc                                  # Camera -> World\n",
    "\n",
    "    Pc = np.array([X, Y, Z], dtype=float)\n",
    "    Cw = np.array(Cw, dtype=float)\n",
    "    Pw = R_wc @ Pc + Cw\n",
    "    return Pw\n",
    "\n",
    "def ground_intersection_from_pixel(u, v, fx, fy, cx, cy,\n",
    "                                   yaw_deg, pitch_deg, roll_deg,\n",
    "                                   Cw, ground_z=0.0):\n",
    "    \"\"\"\n",
    "    픽셀(u,v)에서 나가는 광선이 지면 z=ground_z와 만나는 점을 계산.\n",
    "    (깊이값 없이도 '고도+자세'만으로 지면좌표 얻고 싶을 때 사용)\n",
    "    반환: (Pg, rho), Pg=[x_e, y_n, z_g], rho=수평거리(ENU 평면에서의 거리)\n",
    "    \"\"\"\n",
    "    # 1) 카메라 좌표에서 정규화 광선\n",
    "    dx = (u - cx) / fx\n",
    "    dy = (v - cy) / fy\n",
    "    ray_cam = np.array([dx, dy, 1.0], dtype=float)\n",
    "    ray_cam /= (np.linalg.norm(ray_cam) + 1e-12)\n",
    "\n",
    "    # 2) 월드 회전\n",
    "    R_wc = rot_zyx(yaw_deg, pitch_deg, roll_deg)\n",
    "    ray_w = R_wc @ ray_cam\n",
    "\n",
    "    # 3) Cw에서 z=ground_z 교점\n",
    "    Cw = np.array(Cw, dtype=float)\n",
    "    rwz = ray_w[2]\n",
    "    if abs(rwz) < 1e-12:\n",
    "        return None, None  # 광선이 거의 수평 -> 교점 불가(또는 매우 멀리)\n",
    "    t = (ground_z - Cw[2]) / rwz\n",
    "    if t <= 0:\n",
    "        return None, None  # 광선이 위로 향하거나 카메라 뒤쪽\n",
    "    Pg = Cw + t * ray_w\n",
    "    rho = float(np.hypot(Pg[0]-Cw[0], Pg[1]-Cw[1]))\n",
    "    return Pg, rho"
   ]
  },
  {
   "cell_type": "markdown",
   "id": "7246fc49",
   "metadata": {},
   "source": [
    "### 2. 픽셀→카메라 3D 변환 유틸"
   ]
  },
  {
   "cell_type": "code",
   "execution_count": 2,
   "id": "62fa3e57",
   "metadata": {},
   "outputs": [],
   "source": [
    "def pixel_to_cam(u, v, Z, fx, fy, cx, cy):\n",
    "    \"\"\"\n",
    "    깊이 Z(미터)가 있을 때 픽셀(u,v) → 카메라 좌표(X,Y,Z)\n",
    "    카메라 좌표: x=Right, y=Down, z=Forward\n",
    "    \"\"\"\n",
    "    X = (u - cx) / fx * Z\n",
    "    Y = (v - cy) / fy * Z\n",
    "    return float(X), float(Y), float(Z)"
   ]
  },
  {
   "cell_type": "markdown",
   "id": "82ebbbe9",
   "metadata": {},
   "source": [
    "### 3. 예시 변수 세팅 (드론 포즈/카메라 내부/디텍션)\n",
    "### ** 두 가지 시나리오 **"
   ]
  },
  {
   "cell_type": "markdown",
   "id": "875c3aaf",
   "metadata": {},
   "source": [
    "### (1) 이미 X,Y,Z(카메라 좌표)가 있는 경우\n",
    "* (X=0.21, Y=0.05, Z=2.39가 나온 상황)"
   ]
  },
  {
   "cell_type": "code",
   "execution_count": 3,
   "id": "24c9e57b",
   "metadata": {},
   "outputs": [],
   "source": [
    "# --- 드론(카메라) 포즈: ENU 기준 ---\n",
    "# 드론이 (E=100 m, N=200 m, U=50 m) 지점에서, 동쪽에서 북쪽으로 30° 틀어(동북 방향) 지면을 20° 내려다보며 수평(롤 0°)을 유지하고 있는 상태\n",
    "\n",
    "Cw = [100.0, 200.0, 5.0]     # 드론의 월드 좌표 (E, N, U) [m]\n",
    "yaw_deg = 0.0                # 방위(0°=East, +CCW)\n",
    "pitch_deg = -10.0             # 하향이면 -, 상향이면 +\n",
    "roll_deg = 0.0\n",
    "\n",
    "# --- 카메라 좌표에서의 객체 위치 (이미 계산돼 있다고 가정) ---\n",
    "X, Y, Z = 0.21, 0.05, 2.39    # meters\n"
   ]
  },
  {
   "cell_type": "code",
   "execution_count": 4,
   "id": "fffdffa1",
   "metadata": {},
   "outputs": [
    {
     "name": "stdout",
     "output_type": "stream",
     "text": [
      "y: 0.0 / p: -0.17453292519943295 / r: 0.0\n"
     ]
    }
   ],
   "source": [
    "# 월드 좌표로 변환\n",
    "# 도(degree)를 라디안(radian)으로 원소별 변환해요.\n",
    "# 수학·프로그래밍에서 삼각함수와 회전 공식의 표준 단위가 라디안이기 때문에 삼각함수 자체는 항상 라디안이라 생각하면 안전\n",
    "# 삼각함수(np.sin, np.cos 등)는 라디안 입력을 기대하므로, yaw/pitch/roll을 바로 쓰기 전에 보통 np.deg2rad로 바꿔줍니다.\n",
    "y, p, r = np.deg2rad([yaw_deg, pitch_deg, roll_deg])\n",
    "print(f\"y: {y} / p: {p} / r: {r}\")"
   ]
  },
  {
   "cell_type": "code",
   "execution_count": 5,
   "id": "310186f6",
   "metadata": {},
   "outputs": [
    {
     "name": "stdout",
     "output_type": "stream",
     "text": [
      "1.0 0.0\n"
     ]
    }
   ],
   "source": [
    "cz, sz = np.cos(y), np.sin(y)\n",
    "cy, sy = np.cos(p), np.sin(p)\n",
    "cx, sx = np.cos(r), np.sin(r)\n",
    "\n",
    "print(cz, sz)"
   ]
  },
  {
   "cell_type": "markdown",
   "id": "fdd2c128",
   "metadata": {},
   "source": [
    "### *** 코사인 사인 변환 값 의미? ***\n",
    "  ![alt text](111-3.png)"
   ]
  },
  {
   "cell_type": "code",
   "execution_count": 6,
   "id": "54392387",
   "metadata": {},
   "outputs": [
    {
     "name": "stdout",
     "output_type": "stream",
     "text": [
      "[[ 1. -0.  0.]\n",
      " [ 0.  1.  0.]\n",
      " [ 0.  0.  1.]]\n",
      "**************************************************\n",
      "[[ 0.98480775  0.         -0.17364818]\n",
      " [ 0.          1.          0.        ]\n",
      " [ 0.17364818  0.          0.98480775]]\n"
     ]
    }
   ],
   "source": [
    "Rz = np.array([[cz, -sz,  0],\n",
    "               [sz,  cz,  0],\n",
    "               [ 0,   0,  1]], dtype=float)\n",
    "\n",
    "Ry = np.array([[ cy,   0, sy],\n",
    "               [  0,   1,  0],\n",
    "               [-sy,   0, cy]], dtype=float)\n",
    "\n",
    "Rx = np.array([[ 1,   0,   0],\n",
    "               [ 0,  cx, -sx],\n",
    "               [ 0,  sx,  cx]], dtype=float)\n",
    "\n",
    "R_wc = Rz @ Ry @ Rx\n",
    "\n",
    "print(Rz)\n",
    "print(\"*****\" * 10)\n",
    "print(Rz @ Ry @ Rx)\n",
    "\n",
    "### print(Rz @ Ry @ Rx)는 z축→y축→x축 순서로 합성한 회전행렬을 출력하는 거예요.\n",
    "# 즉, roll(Rx) → pitch(Ry) → yaw(Rz) 를(오른쪽부터 왼쪽으로) 차례로 적용한 최종 자세(orientation) 를 나타내는 3×3 행렬"
   ]
  },
  {
   "cell_type": "markdown",
   "id": "e8a98781",
   "metadata": {},
   "source": [
    "### *** Rz 값의 의미는?? ***\n",
    "  ![alt text](111-4.png)"
   ]
  },
  {
   "cell_type": "markdown",
   "id": "c371fd59",
   "metadata": {},
   "source": [
    "### *** Rz @ Ry @ Rx 값의 의미?? ***\n",
    "![alt text](111-5.png)"
   ]
  },
  {
   "cell_type": "markdown",
   "id": "f80f48f4",
   "metadata": {},
   "source": [
    "### *** 정면 장착과 하향 장착 테스트 ***\n",
    "* \"어떤 보정을 써야할까???\" \n",
    "![alt text](333.png)"
   ]
  },
  {
   "cell_type": "code",
   "execution_count": 7,
   "id": "a50af910",
   "metadata": {},
   "outputs": [
    {
     "name": "stdout",
     "output_type": "stream",
     "text": [
      "front d_w[2] = 0.15242501711597992\n",
      "nadir d_w[2] = -0.984433154558511\n"
     ]
    }
   ],
   "source": [
    "def test_d_w2(yaw_deg, pitch_deg, roll_deg, r_c):\n",
    "    y, p, r = np.deg2rad([yaw_deg, pitch_deg, roll_deg])\n",
    "    cz, sz = np.cos(y), np.sin(y)\n",
    "    cy, sy = np.cos(p), np.sin(p)\n",
    "    cx, sx = np.cos(r), np.sin(r)\n",
    "\n",
    "    Rz = np.array([[cz,-sz,0],[sz,cz,0],[0,0,1]], float)\n",
    "    Ry = np.array([[cy,0,sy],[0,1,0],[-sy,0,cy]], float)\n",
    "    Rx = np.array([[1,0,0],[0,cx,-sx],[0,sx,cx]], float)\n",
    "    R_wb = Rz @ Ry @ Rx\n",
    "\n",
    "    R_bc_front = np.array([[0,0,1],[-1,0,0],[0,-1,0]], float)\n",
    "    R_bc_nadir = np.array([[0,-1,0],[-1,0,0],[0,0,-1]], float)\n",
    "\n",
    "    for name, R_bc in [(\"front\", R_bc_front), (\"nadir\", R_bc_nadir)]:\n",
    "        R_wc = R_wb @ R_bc\n",
    "        d_w = R_wc @ (r_c / np.linalg.norm(r_c))\n",
    "        print(name, \"d_w[2] =\", d_w[2])\n",
    "\n",
    "# 예) 방금 얻은 카메라 벡터(사람 bbox 중심 3D)\n",
    "r_c = np.array([X, Y, Z], float)  # 예: [0.21, 0.05, 2.39]\n",
    "test_d_w2(yaw_deg, pitch_deg, roll_deg, r_c)"
   ]
  },
  {
   "cell_type": "code",
   "execution_count": 8,
   "id": "29910734",
   "metadata": {},
   "outputs": [
    {
     "data": {
      "text/plain": [
       "array([[ 0.        , -0.98480775,  0.17364818],\n",
       "       [-1.        ,  0.        ,  0.        ],\n",
       "       [ 0.        , -0.17364818, -0.98480775]])"
      ]
     },
     "execution_count": 8,
     "metadata": {},
     "output_type": "execute_result"
    }
   ],
   "source": [
    "### 상기 테스트 결과에 따라 보정 선택 ###\n",
    "R_bc = np.array([\n",
    "    [ 0, -1,  0],\n",
    "    [-1,  0,  0],\n",
    "    [ 0,  0, -1],\n",
    "], dtype=float)\n",
    "\n",
    "R_wc = R_wc @ R_bc\n",
    "R_wc"
   ]
  },
  {
   "cell_type": "markdown",
   "id": "f4440dd2",
   "metadata": {},
   "source": [
    "### *** R_bc 를 행렬곱 하는 이유는?? ***\n",
    "![alt text](111-6.png)\n",
    "![alt text](222-3.png)"
   ]
  },
  {
   "cell_type": "code",
   "execution_count": 9,
   "id": "fecc989f",
   "metadata": {},
   "outputs": [
    {
     "name": "stdout",
     "output_type": "stream",
     "text": [
      "월드 U축 성분: -0.984433154558511\n"
     ]
    }
   ],
   "source": [
    "# 카메라에서 얻은 방향벡터/점 (정규화해서 방향만 봐도 OK)\n",
    "r_c = np.array([X, Y, Z], float)\n",
    "d_w = R_wc @ (r_c / np.linalg.norm(r_c))\n",
    "print(\"월드 U축 성분:\", d_w[2])  # 지면을 보면 보통 d_w[2] < 0 (아래) 여야 함"
   ]
  },
  {
   "cell_type": "code",
   "execution_count": 10,
   "id": "7abef7d5",
   "metadata": {},
   "outputs": [
    {
     "data": {
      "text/plain": [
       "array([100.36577876, 199.79      ,   2.63762706])"
      ]
     },
     "execution_count": 10,
     "metadata": {},
     "output_type": "execute_result"
    }
   ],
   "source": [
    "##### 카메라 좌표의 점 P_c=[X,Y,Z]를 월드 좌표로 변환. #####\n",
    "##### 드론 위치 Cw = [100.0, 200.0, 5.0] #####\n",
    "\n",
    "Pw = R_wc @ np.array([X, Y, Z], dtype=float) + np.array(Cw, dtype=float)\n",
    "Pw"
   ]
  },
  {
   "cell_type": "code",
   "execution_count": 11,
   "id": "64ee9842",
   "metadata": {},
   "outputs": [
    {
     "data": {
      "text/plain": [
       "2.3997291513835473"
      ]
     },
     "execution_count": 11,
     "metadata": {},
     "output_type": "execute_result"
    }
   ],
   "source": [
    "R  = float(np.linalg.norm([X, Y, Z]))  # 카메라-객체 직선거리\n",
    "R"
   ]
  },
  {
   "cell_type": "markdown",
   "id": "97d4f867",
   "metadata": {},
   "source": [
    "### *** np.linalg.norm([X, Y, Z]) 의미?? ***\n",
    "![alt text](111-7.png)"
   ]
  },
  {
   "cell_type": "markdown",
   "id": "a6e7e8af",
   "metadata": {},
   "source": [
    "### (B) 픽셀(u,v) + 깊이 Z 로부터 X,Y,Z를 만들고 월드로\n",
    "* (딥스/YOLO 바운딩박스 중심 등에서 얻은 픽셀 좌표와 Z가 있을 때)"
   ]
  },
  {
   "cell_type": "code",
   "execution_count": 12,
   "id": "a3cd4585",
   "metadata": {},
   "outputs": [],
   "source": [
    "def pixel_to_cam(u, v, Z, fx, fy, cx, cy):\n",
    "    \"\"\"\n",
    "    깊이 Z(미터)가 있을 때 픽셀(u,v) → 카메라 좌표(X,Y,Z)\n",
    "    카메라 좌표: x=Right, y=Down, z=Forward\n",
    "    \"\"\"\n",
    "    X = (u - cx) / fx * Z\n",
    "    Y = (v - cy) / fy * Z\n",
    "    return float(X), float(Y), float(Z)"
   ]
  },
  {
   "cell_type": "code",
   "execution_count": 13,
   "id": "eb12f039",
   "metadata": {},
   "outputs": [
    {
     "name": "stdout",
     "output_type": "stream",
     "text": [
      "0.2068470382281494 0.05171175955703735 2.39\n"
     ]
    }
   ],
   "source": [
    "# --- 카메라 내부 파라미터 (예시: main_depth_infer_coord_extract.py 로그 값) ---\n",
    "fx = 1016.79\n",
    "fy = 1016.79\n",
    "cx = 640.0\n",
    "cy = 360.0\n",
    "\n",
    "# --- 예시 픽셀/깊이 ---\n",
    "u = 728.0\n",
    "v = 382.0\n",
    "Z = 2.39  # m (ROI 중앙값 등)\n",
    "\n",
    "# 픽셀→카메라 3D\n",
    "Xb, Yb, Zb = pixel_to_cam(u, v, Z, fx, fy, cx, cy)\n",
    "print(Xb, Yb, Zb)"
   ]
  },
  {
   "cell_type": "code",
   "execution_count": 14,
   "id": "0898253a",
   "metadata": {},
   "outputs": [
    {
     "data": {
      "text/plain": [
       "array([100.364093  , 199.79315296,   2.63732982])"
      ]
     },
     "execution_count": 14,
     "metadata": {},
     "output_type": "execute_result"
    }
   ],
   "source": [
    "Pw_b = cam_to_world_point(Xb, Yb, Zb, yaw_deg, pitch_deg, roll_deg, Cw, mount=\"nadir\", R_bc=None)\n",
    "Pw_b"
   ]
  },
  {
   "cell_type": "code",
   "execution_count": 15,
   "id": "cd0cd7b5",
   "metadata": {},
   "outputs": [],
   "source": [
    "def gravity_scale_correction(depth_m, fx, fy, cx, cy,\n",
    "                             cam_height, yaw_deg, pitch_deg, roll_deg,\n",
    "                             roi_bottom_frac=0.35, stride=4, pct_clip=(10,90)):\n",
    "    \"\"\"\n",
    "    단일 프레임 depth를 '고도+자세'로 전역 스케일 보정.\n",
    "    - 바닥은 영상 하단 roi_bottom_frac (디폴트 하단 35%)로 가정\n",
    "    - stride로 샘플링해 계산량 감소\n",
    "    \"\"\"\n",
    "    H, W = depth_m.shape\n",
    "    y0 = int(H * (1.0 - roi_bottom_frac))\n",
    "    ys = np.arange(y0, H, stride)\n",
    "    xs = np.arange(0, W, stride)\n",
    "    if len(ys)==0 or len(xs)==0:\n",
    "        return depth_m, 1.0, {\"used\":0}\n",
    "\n",
    "    # 카메라에서 본 '월드 업'의 방향(=지면 법선) n_c\n",
    "    R_wc = rot_zyx(yaw_deg, pitch_deg, roll_deg)\n",
    "    n_w  = np.array([0.0, 0.0, 1.0])\n",
    "    n_c  = R_wc.T @ n_w   # plane normal in camera frame\n",
    "\n",
    "    # 샘플 그리드\n",
    "    uu, vv = np.meshgrid(xs, ys)\n",
    "    Zp = depth_m[vv, uu]\n",
    "    valid = np.isfinite(Zp) & (Zp > 0)\n",
    "\n",
    "    dx = (uu - cx) / fx\n",
    "    dy = (vv - cy) / fy\n",
    "    denom = n_c[0]*dx + n_c[1]*dy + n_c[2]*1.0  # n·v, v=[dx,dy,1]\n",
    "    # 광선이 지면을 향해야 교차(denom < 0) → 하향 카메라면 보통 음수\n",
    "    valid &= (denom < -1e-6)\n",
    "\n",
    "    if not np.any(valid):\n",
    "        return depth_m, 1.0, {\"used\":0}\n",
    "\n",
    "    Z_expected = -cam_height / denom[valid]       # 이론적 지면 교차 깊이(카메라 z)\n",
    "    Z_pred     = Zp[valid]\n",
    "    # 이상치 컷\n",
    "    lo, hi = np.percentile(Z_expected/Z_pred, pct_clip)\n",
    "    sc = (Z_expected/Z_pred)\n",
    "    sc = sc[(sc>=lo) & (sc<=hi)]\n",
    "    if sc.size == 0:\n",
    "        return depth_m, 1.0, {\"used\":0}\n",
    "\n",
    "    scale = float(np.median(sc))\n",
    "    depth_corr = depth_m * scale\n",
    "    return depth_corr, scale, {\"used\": int(sc.size), \"lo\": float(lo), \"hi\": float(hi)}\n"
   ]
  },
  {
   "cell_type": "code",
   "execution_count": null,
   "id": "508b4ef4",
   "metadata": {},
   "outputs": [
    {
     "ename": "ValueError",
     "evalue": "not enough values to unpack (expected 2, got 1)",
     "output_type": "error",
     "traceback": [
      "\u001b[0;31m---------------------------------------------------------------------------\u001b[0m",
      "\u001b[0;31mValueError\u001b[0m                                Traceback (most recent call last)",
      "\u001b[0;32m/tmp/ipykernel_108799/2682999045.py\u001b[0m in \u001b[0;36m<cell line: 6>\u001b[0;34m()\u001b[0m\n\u001b[1;32m      4\u001b[0m \u001b[0myaw_deg\u001b[0m\u001b[0;34m,\u001b[0m \u001b[0mpitch_deg\u001b[0m\u001b[0;34m,\u001b[0m \u001b[0mroll_deg\u001b[0m \u001b[0;34m=\u001b[0m \u001b[0;36m30.0\u001b[0m\u001b[0;34m,\u001b[0m \u001b[0;34m-\u001b[0m\u001b[0;36m20.0\u001b[0m\u001b[0;34m,\u001b[0m \u001b[0;36m0.0\u001b[0m  \u001b[0;31m# IMU 각도(프로젝트 규약에 맞춰 부호 확인)\u001b[0m\u001b[0;34m\u001b[0m\u001b[0;34m\u001b[0m\u001b[0m\n\u001b[1;32m      5\u001b[0m \u001b[0;34m\u001b[0m\u001b[0m\n\u001b[0;32m----> 6\u001b[0;31m depth_m_corr, scale, info = gravity_scale_correction(\n\u001b[0m\u001b[1;32m      7\u001b[0m     \u001b[0mdepth_m\u001b[0m\u001b[0;34m,\u001b[0m \u001b[0mfx\u001b[0m\u001b[0;34m,\u001b[0m \u001b[0mfy\u001b[0m\u001b[0;34m,\u001b[0m \u001b[0mcx\u001b[0m\u001b[0;34m,\u001b[0m \u001b[0mcy\u001b[0m\u001b[0;34m,\u001b[0m\u001b[0;34m\u001b[0m\u001b[0;34m\u001b[0m\u001b[0m\n\u001b[1;32m      8\u001b[0m     \u001b[0mcam_height\u001b[0m\u001b[0;34m=\u001b[0m\u001b[0mcam_height\u001b[0m\u001b[0;34m,\u001b[0m\u001b[0;34m\u001b[0m\u001b[0;34m\u001b[0m\u001b[0m\n",
      "\u001b[0;32m/tmp/ipykernel_108799/978128470.py\u001b[0m in \u001b[0;36mgravity_scale_correction\u001b[0;34m(depth_m, fx, fy, cx, cy, cam_height, yaw_deg, pitch_deg, roll_deg, roi_bottom_frac, stride, pct_clip)\u001b[0m\n\u001b[1;32m      7\u001b[0m     \u001b[0;34m-\u001b[0m \u001b[0mstride로\u001b[0m \u001b[0m샘플링해\u001b[0m \u001b[0m계산량\u001b[0m \u001b[0m감소\u001b[0m\u001b[0;34m\u001b[0m\u001b[0;34m\u001b[0m\u001b[0m\n\u001b[1;32m      8\u001b[0m     \"\"\"\n\u001b[0;32m----> 9\u001b[0;31m     \u001b[0mH\u001b[0m\u001b[0;34m,\u001b[0m \u001b[0mW\u001b[0m \u001b[0;34m=\u001b[0m \u001b[0mdepth_m\u001b[0m\u001b[0;34m.\u001b[0m\u001b[0mshape\u001b[0m\u001b[0;34m\u001b[0m\u001b[0;34m\u001b[0m\u001b[0m\n\u001b[0m\u001b[1;32m     10\u001b[0m     \u001b[0my0\u001b[0m \u001b[0;34m=\u001b[0m \u001b[0mint\u001b[0m\u001b[0;34m(\u001b[0m\u001b[0mH\u001b[0m \u001b[0;34m*\u001b[0m \u001b[0;34m(\u001b[0m\u001b[0;36m1.0\u001b[0m \u001b[0;34m-\u001b[0m \u001b[0mroi_bottom_frac\u001b[0m\u001b[0;34m)\u001b[0m\u001b[0;34m)\u001b[0m\u001b[0;34m\u001b[0m\u001b[0;34m\u001b[0m\u001b[0m\n\u001b[1;32m     11\u001b[0m     \u001b[0mys\u001b[0m \u001b[0;34m=\u001b[0m \u001b[0mnp\u001b[0m\u001b[0;34m.\u001b[0m\u001b[0marange\u001b[0m\u001b[0;34m(\u001b[0m\u001b[0my0\u001b[0m\u001b[0;34m,\u001b[0m \u001b[0mH\u001b[0m\u001b[0;34m,\u001b[0m \u001b[0mstride\u001b[0m\u001b[0;34m)\u001b[0m\u001b[0;34m\u001b[0m\u001b[0;34m\u001b[0m\u001b[0m\n",
      "\u001b[0;31mValueError\u001b[0m: not enough values to unpack (expected 2, got 1)"
     ]
    }
   ],
   "source": [
    "# infer 끝난 뒤: depth_m (m), fx, fy, cx, cy 준비된 상태\n",
    "cam_height = Cw[-1]      # 드론 AGL (m) - 실제 값 넣으세요\n",
    "\n",
    "depth_m_corr, scale, info = gravity_scale_correction(\n",
    "    depth_m, fx, fy, cx, cy,\n",
    "    cam_height=cam_height,\n",
    "    yaw_deg=yaw_deg, pitch_deg=pitch_deg, roll_deg=roll_deg,\n",
    "    roi_bottom_frac=0.35, stride=4\n",
    ")\n",
    "print(f\"[gravity-scale] scale={scale:.3f}, used={info['used']}\")\n",
    "print(f\"[depth_m_corr] ={depth_m_corr}\")"
   ]
  },
  {
   "cell_type": "code",
   "execution_count": null,
   "id": "db90a385",
   "metadata": {},
   "outputs": [],
   "source": []
  }
 ],
 "metadata": {
  "kernelspec": {
   "display_name": "depthpro",
   "language": "python",
   "name": "python3"
  },
  "language_info": {
   "codemirror_mode": {
    "name": "ipython",
    "version": 3
   },
   "file_extension": ".py",
   "mimetype": "text/x-python",
   "name": "python",
   "nbconvert_exporter": "python",
   "pygments_lexer": "ipython3",
   "version": "3.9.23"
  }
 },
 "nbformat": 4,
 "nbformat_minor": 5
}
